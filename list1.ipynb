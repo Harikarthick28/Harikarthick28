{
  "nbformat": 4,
  "nbformat_minor": 0,
  "metadata": {
    "colab": {
      "provenance": [],
      "authorship_tag": "ABX9TyNenhZ5J51uYQRkGpbtycr5",
      "include_colab_link": true
    },
    "kernelspec": {
      "name": "python3",
      "display_name": "Python 3"
    },
    "language_info": {
      "name": "python"
    }
  },
  "cells": [
    {
      "cell_type": "markdown",
      "metadata": {
        "id": "view-in-github",
        "colab_type": "text"
      },
      "source": [
        "<a href=\"https://colab.research.google.com/github/Harikarthick28/Harikarthick28/blob/main/list1.ipynb\" target=\"_parent\"><img src=\"https://colab.research.google.com/assets/colab-badge.svg\" alt=\"Open In Colab\"/></a>"
      ]
    },
    {
      "cell_type": "code",
      "source": [
        "a=[1,2,3,4,5,6,7,8,9,10]\n",
        "od=[]\n",
        "ev=[]\n",
        "for i in a:\n",
        "    if i%2==0:\n",
        "      ev.append(i)\n",
        "    else:\n",
        "      od.append(i)\n",
        "o=[]\n",
        "e=[]\n",
        "for i in range(len(od)):\n",
        "    k=od[i]**2\n",
        "    o.append(k)\n",
        "for i in range(len(ev)):\n",
        "    d=ev[i]**2\n",
        "    e.append(d)\n",
        "print(\"odd list\",od)\n",
        "print(\"even list\",ev)\n",
        "print(\"odd square\",o)\n",
        "print(\"even squar\",e)"
      ],
      "metadata": {
        "colab": {
          "base_uri": "https://localhost:8080/"
        },
        "id": "GKCXyGmLh-sx",
        "outputId": "2deabc7f-cbde-46bd-a876-adf7a8aa4057"
      },
      "execution_count": null,
      "outputs": [
        {
          "output_type": "stream",
          "name": "stdout",
          "text": [
            "odd list [1, 3, 5, 7, 9]\n",
            "even list [2, 4, 6, 8, 10]\n",
            "odd square [1, 9, 25, 49, 81]\n",
            "even squar [4, 16, 36, 64, 100]\n"
          ]
        }
      ]
    },
    {
      "cell_type": "markdown",
      "source": [
        "Write a program to find the largest and smallest number in the list without using the in-built function."
      ],
      "metadata": {
        "id": "kMp_I0rnpbp_"
      }
    },
    {
      "cell_type": "markdown",
      "source": [
        "Create a list of first 10 natural numbers. And write a program to find the lists of odd numbers and even numbers separately. And, to find the square of its odd and even lists."
      ],
      "metadata": {
        "id": "YSmQoW_HpO0Z"
      }
    },
    {
      "cell_type": "code",
      "source": [
        "numbers = [4, 7, 2, 9, 1, 5]\n",
        "\n",
        "if len(numbers) == 0:\n",
        "    largest = None\n",
        "    smallest = None\n",
        "else:\n",
        "    largest = numbers[0]\n",
        "    smallest = numbers[0]\n",
        "\n",
        "    for num in numbers:\n",
        "        if num > largest:\n",
        "            largest = num\n",
        "        elif num < smallest:\n",
        "            smallest = num\n",
        "\n",
        "print(\"Largest number:\", largest)\n",
        "print(\"Smallest number:\", smallest)\n"
      ],
      "metadata": {
        "colab": {
          "base_uri": "https://localhost:8080/"
        },
        "id": "OsClgNUWkoLl",
        "outputId": "3705d912-081f-43c4-87c7-3d4190d12cdf"
      },
      "execution_count": null,
      "outputs": [
        {
          "output_type": "stream",
          "name": "stdout",
          "text": [
            "Largest number: 9\n",
            "Smallest number: 1\n"
          ]
        }
      ]
    },
    {
      "cell_type": "markdown",
      "source": [
        "Write a program to find the second largest and second smallest number in the list without using the in-built function."
      ],
      "metadata": {
        "id": "5f_OlmlTpnLn"
      }
    },
    {
      "cell_type": "code",
      "source": [
        "\n",
        "numbers = [10, 5, 20, 15, 8, 25]\n",
        "\n",
        "second_largest = None\n",
        "largest = None\n",
        "second_smallest = None\n",
        "smallest = None\n",
        "\n",
        "for num in numbers:\n",
        "    if largest is None:\n",
        "        largest = num\n",
        "    elif num > largest:\n",
        "        second_largest = largest\n",
        "        largest = num\n",
        "    elif second_largest is None or num > second_largest:\n",
        "        second_largest = num\n",
        "\n",
        "\n",
        "    if smallest is None:\n",
        "        smallest = num\n",
        "    elif num < smallest:\n",
        "        second_smallest = smallest\n",
        "        smallest = num\n",
        "    elif second_smallest is None or num < second_smallest:\n",
        "        second_smallest = num\n",
        "\n",
        "\n",
        "print(\"Second Largest Number:\", second_largest)\n",
        "print(\"Second Smallest Number:\", second_smallest)\n"
      ],
      "metadata": {
        "colab": {
          "base_uri": "https://localhost:8080/"
        },
        "id": "QkWZYNHRlvQM",
        "outputId": "feaaf6ed-ec09-4ebc-c3c7-68514c767de3"
      },
      "execution_count": null,
      "outputs": [
        {
          "output_type": "stream",
          "name": "stdout",
          "text": [
            "Second Largest Number: 20\n",
            "Second Smallest Number: 8\n"
          ]
        }
      ]
    },
    {
      "cell_type": "markdown",
      "source": [
        "Write a program to sort elements stored in the list as Ascending order and Descending order without using the in-built function (sort ()).  "
      ],
      "metadata": {
        "id": "zuK4VVzqo7WA"
      }
    },
    {
      "cell_type": "code",
      "source": [
        "\n",
        "\n",
        "\n",
        "numbers = [10, 5, 20, 15, 8, 25]\n",
        "for i in range(len(numbers)):\n",
        "    for j in range(i + 1, len(numbers)):\n",
        "        if numbers[i] > numbers[j]:\n",
        "           numbers[i], numbers[j] = numbers[j], numbers[i]\n",
        "print(\"Ascending Order:\", numbers)\n",
        "for i in range(len(numbers)):\n",
        "    for j in range(i + 1, len(numbers)):\n",
        "        if numbers[i] < numbers[j]:\n",
        "            numbers[i], numbers[j] = numbers[j],numbers[i]\n",
        "print(\"Descending Order:\", numbers)\n"
      ],
      "metadata": {
        "colab": {
          "base_uri": "https://localhost:8080/"
        },
        "id": "AQtv-Gt-m2ZX",
        "outputId": "3fe3f408-0754-4866-9691-1b229b52736a"
      },
      "execution_count": null,
      "outputs": [
        {
          "output_type": "stream",
          "name": "stdout",
          "text": [
            "Ascending Order: [5, 8, 10, 15, 20, 25]\n",
            "Descending Order: [25, 20, 15, 10, 8, 5]\n"
          ]
        }
      ]
    },
    {
      "cell_type": "markdown",
      "source": [
        "5. Find the index position of the specific number stored in the list."
      ],
      "metadata": {
        "id": "5mCEUwDRo5DF"
      }
    },
    {
      "cell_type": "code",
      "source": [
        "a= [45,67,83,24,55,87,77,34]\n",
        "b=int(input(\"enter the number: \"))\n",
        "for i in range(len(a)):\n",
        "  if(a[i]==b):\n",
        "    print(i)\n"
      ],
      "metadata": {
        "colab": {
          "base_uri": "https://localhost:8080/"
        },
        "id": "cbyrQ89CqWrQ",
        "outputId": "85c5c295-89de-4702-bd8b-94d6bdb08f03"
      },
      "execution_count": null,
      "outputs": [
        {
          "output_type": "stream",
          "name": "stdout",
          "text": [
            "enter the number: 55\n",
            "4\n"
          ]
        }
      ]
    },
    {
      "cell_type": "markdown",
      "source": [
        "Find most frequent element present in a list.\n"
      ],
      "metadata": {
        "id": "6UJT2RQvsWPv"
      }
    },
    {
      "cell_type": "code",
      "source": [
        "a= [4,5,6,4,6,7,4,2,4,8,4]\n",
        "b=max(set(a),key=a.count)\n",
        "print(b)"
      ],
      "metadata": {
        "colab": {
          "base_uri": "https://localhost:8080/"
        },
        "id": "AyIeCl71sVb7",
        "outputId": "850bd399-4120-4b23-ae84-211006cc5a50"
      },
      "execution_count": null,
      "outputs": [
        {
          "output_type": "stream",
          "name": "stdout",
          "text": [
            "4\n"
          ]
        }
      ]
    },
    {
      "cell_type": "markdown",
      "source": [
        "Below are the two lists. Write a Python program to convert them into a dictionary in a way that item from list1 is the key and item from list2 is the value by using update method()."
      ],
      "metadata": {
        "id": "hMR0jidYsqBi"
      }
    },
    {
      "cell_type": "code",
      "source": [
        "keys = ['Ten', 'Twenty', 'Thirty']\n",
        "values = [10, 20, 30]\n",
        "dict={}\n",
        "for i in range(len(keys)):\n",
        "  dict.update({keys[i]:values[i]})\n",
        "print(dict)"
      ],
      "metadata": {
        "colab": {
          "base_uri": "https://localhost:8080/"
        },
        "id": "oEOYOB3TtZZE",
        "outputId": "d5d3d1c5-9bd3-4450-c6e0-c155148ce0a8"
      },
      "execution_count": null,
      "outputs": [
        {
          "output_type": "stream",
          "name": "stdout",
          "text": [
            "{'Ten': 10, 'Twenty': 20, 'Thirty': 30}\n"
          ]
        }
      ]
    },
    {
      "cell_type": "markdown",
      "source": [
        "Create a list of 10 members as a Voter_list. Assume that there are 3 Candidates (A, B & C) are going to contest in the election process. Write a program that voters will cast their votes and predict the Winner and Runner of the election process and to find the members who voted for the Winner and Runner."
      ],
      "metadata": {
        "id": "v8oRJFrguhPv"
      }
    },
    {
      "cell_type": "code",
      "source": [
        "a=[\"karthick\",\"dhivyakanth\",\"naren\",\"ajith\",\"hardhik\",\"pandya\",\"surya\",\"lokesh\",\"giri\",\"hari\"]\n",
        "print(\"to vote virat press 1:\")\n",
        "print(\"to vote dhoni press 2:\")\n",
        "print(\"to vote rohit press 3:\")\n",
        "print(\"For NOTA press 4:\")\n",
        "v=0\n",
        "msd=0\n",
        "rs=0\n",
        "n=0\n",
        "for i in a:\n",
        "    print(i,\"enter your option:\")\n",
        "    a=int(input(\"\"))\n",
        "    if(a==1):\n",
        "        v=v+1\n",
        "    elif(a==2):\n",
        "        msd=msd+1\n",
        "    elif(a==3):\n",
        "        rs=rs+1\n",
        "    elif(a==4):\n",
        "        n=n+1\n",
        "if(v>n and v>msd and v>rs):\n",
        "    print(\"virat is winner\")\n",
        "elif(rs>v and rs>msd and rs>n):\n",
        "    print(\"rohit is winner\")\n",
        "elif(msd>v and msd>rs and msd>n):\n",
        "    print(\"dhoni is winner\")\n",
        "else:\n",
        "    print(\"nota\")\n",
        "2\n"
      ],
      "metadata": {
        "colab": {
          "base_uri": "https://localhost:8080/"
        },
        "id": "goz9Mxpwud62",
        "outputId": "14938ca3-87e9-4440-f8ad-223abc6cfd74"
      },
      "execution_count": null,
      "outputs": [
        {
          "output_type": "stream",
          "name": "stdout",
          "text": [
            "to vote virat press 1:\n",
            "to vote dhoni press 2:\n",
            "to vote rohit press 3:\n",
            "For NOTA press 4:\n",
            "karthick enter your option:\n",
            "1\n",
            "dhivyakanth enter your option:\n",
            "2\n",
            "naren enter your option:\n",
            "3\n",
            "ajith enter your option:\n",
            "5\n",
            "hardhik enter your option:\n",
            "4\n",
            "pandya enter your option:\n",
            "2\n",
            "surya enter your option:\n",
            "2\n",
            "lokesh enter your option:\n",
            "3\n",
            "giri enter your option:\n",
            "5\n",
            "hari enter your option:\n",
            "2\n",
            "dhoni is winner\n"
          ]
        }
      ]
    },
    {
      "cell_type": "markdown",
      "source": [
        "Write a program to calculate the following functions:\n",
        "\t1. India (Rupee) to US (Dollar) conversion\n",
        "\t2. Celsius to Fahrenheit\n",
        "\t3. BMI Calculation\n",
        "\t4. Simple Interest Calculation"
      ],
      "metadata": {
        "id": "bXX8pPUe4Dko"
      }
    },
    {
      "cell_type": "code",
      "source": [
        "# India (Rupee) to US (Dollar) conversion\n",
        "def rupee_to_dollar(amount):\n",
        "    exchange_rate = 0.014 # 1 INR = 0.014 USD\n",
        "    return amount * exchange_rate\n",
        "\n",
        "# Celsius to Fahrenheit conversion\n",
        "def celsius_to_fahrenheit(celsius):\n",
        "    return (celsius * 9/5) + 32\n",
        "\n",
        "# BMI Calculation\n",
        "def calculate_bmi(weight_kg, height_m):\n",
        "    return weight_kg / (height_m ** 2)\n",
        "\n",
        "# Simple Interest Calculation\n",
        "def calculate_simple_interest(principal, rate, time):\n",
        "    return (principal * rate * time) / 100\n",
        "\n",
        "choice = int(input(\"enter choice\"))\n",
        "if choice == 1:\n",
        "    amount = float(input(\"Enter amount in Rupees: \"))\n",
        "    exchange_rate = 0.014 # 1 INR = 0.014 USD\n",
        "    print(\"Amount in USD:\", amount * exchange_rate)\n",
        "elif choice == 2:\n",
        "    celsius = float(input(\"Enter temperature in Celsius: \"))\n",
        "    print(\"Temperature in Fahrenheit:\", (celsius * 9/5) + 32)\n",
        "elif choice == 3:\n",
        "    weight = float(input(\"Enter weight in kg: \"))\n",
        "    height = float(input(\"Enter height in meters: \"))\n",
        "    print(\"BMI:\", weight / (height ** 2))\n",
        "elif choice == 4:\n",
        "    principal = float(input(\"Enter principal amount: \"))\n",
        "    rate = float(input(\"Enter rate of interest: \"))\n",
        "    time = float(input(\"Enter time period (in years): \"))\n",
        "    print(\"Simple Interest:\", (principal * rate * time) / 100)\n",
        "else:\n",
        "    print(\"Invalid choice\")\n"
      ],
      "metadata": {
        "colab": {
          "base_uri": "https://localhost:8080/"
        },
        "id": "V78huR6p4ckX",
        "outputId": "c0142898-343f-450a-df29-fd29abdf24fe"
      },
      "execution_count": null,
      "outputs": [
        {
          "output_type": "stream",
          "name": "stdout",
          "text": [
            "enter choice1\n",
            "Enter amount in Rupees: 45\n",
            "Amount in USD: 0.63\n"
          ]
        }
      ]
    },
    {
      "cell_type": "markdown",
      "source": [
        "Write a program to get 0s and 1s in the list:"
      ],
      "metadata": {
        "id": "bDNCn_9v6HfK"
      }
    },
    {
      "cell_type": "code",
      "source": [
        "input_list = [0, 1, 0, 1, 1, 0, 1, 0, 1, 0]\n",
        "zeroes = []\n",
        "ones = []\n",
        "\n",
        "for num in input_list:\n",
        "    if num == 0:\n",
        "        zeroes.append(num)\n",
        "    elif num == 1:\n",
        "        ones.append(num)\n",
        "    else:\n",
        "        print(\"Invalid input. Only 0s and 1s are allowed in the input list.\")\n",
        "        break\n",
        "\n",
        "print(\"Zeroes:\", zeroes)\n",
        "print(\"Ones:\", ones)\n"
      ],
      "metadata": {
        "colab": {
          "base_uri": "https://localhost:8080/"
        },
        "id": "7X67BOOs53v2",
        "outputId": "abaf9c31-327d-4a88-b842-4f104d51b258"
      },
      "execution_count": null,
      "outputs": [
        {
          "output_type": "stream",
          "name": "stdout",
          "text": [
            "Zeroes: [0, 0, 0, 0, 0]\n",
            "Ones: [1, 1, 1, 1, 1]\n"
          ]
        }
      ]
    }
  ]
}